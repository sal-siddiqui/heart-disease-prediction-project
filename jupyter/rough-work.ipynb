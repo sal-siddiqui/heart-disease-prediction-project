{
 "cells": [
  {
   "cell_type": "code",
   "execution_count": 18,
   "id": "5bda84c9-7299-4916-b34a-651dea76b711",
   "metadata": {},
   "outputs": [],
   "source": [
    "import pandas as pd\n",
    "import pickle\n",
    "from pathlib import Path\n",
    "\n",
    "import json"
   ]
  },
  {
   "cell_type": "code",
   "execution_count": 9,
   "id": "b4341414-8366-4ae2-aa50-d681f2fbeceb",
   "metadata": {},
   "outputs": [],
   "source": [
    "data_RAW = pd.read_csv(\"assets/data/heart.csv\")\n",
    "\n",
    "features = data_RAW.drop(columns=\"target\")\n",
    "target = data_RAW[\"target\"]"
   ]
  },
  {
   "cell_type": "code",
   "execution_count": 11,
   "id": "9554baea-a171-4d38-b998-d3f15c3102cf",
   "metadata": {},
   "outputs": [],
   "source": [
    "models = {}\n",
    "\n",
    "for item in Path(\"classifiers\").iterdir():\n",
    "    name = item.stem.replace(\"-\", \"_\")\n",
    "    estimator = pickle.load(item.open(\"rb\"))\n",
    "    models[name] = estimator"
   ]
  },
  {
   "cell_type": "code",
   "execution_count": 3,
   "id": "83d40d61-e5ec-457a-a226-d5945c74f41f",
   "metadata": {},
   "outputs": [
    {
     "data": {
      "text/plain": [
       "dict_keys(['decision_tree', 'knn', 'random_forest', 'svm'])"
      ]
     },
     "execution_count": 3,
     "metadata": {},
     "output_type": "execute_result"
    }
   ],
   "source": [
    "models.keys()"
   ]
  },
  {
   "cell_type": "code",
   "execution_count": 81,
   "id": "bc0ebb83-7fd8-4f3f-94e8-4fee7c27ace8",
   "metadata": {},
   "outputs": [],
   "source": [
    "def get_prediction(features, prob=False):\n",
    "\n",
    "    if features.shape != (1, 13):\n",
    "        raise ValueError(f\"Expecting a single row with 13 features. Got {features.shape} instead of (1, 13)\")\n",
    "\n",
    "    result = {}\n",
    "\n",
    "    for name, estimator in models.items():\n",
    "        if prob:\n",
    "            prediction = (estimator.predict_proba(features) * 100).astype(int)\n",
    "        else:\n",
    "            prediction = estimator.predict(features).item()\n",
    "\n",
    "        result[name] = prediction\n",
    "\n",
    "    return result"
   ]
  },
  {
   "cell_type": "code",
   "execution_count": 82,
   "id": "ed35a3c3-b61e-40e4-9650-f629b12a925a",
   "metadata": {},
   "outputs": [],
   "source": [
    "def get_predictions(features, prob=False):\n",
    "\n",
    "    if features.ndim != 2 or features.shape[1] != 13 or features.shape[0] == 1:\n",
    "        raise ValueError(f\"Expecting atleast two rows with 13 features. Got {features.shape} instead of (* > 1, 13)\")\n",
    "\n",
    "    results = {}\n",
    "\n",
    "    for idx, row in features.iterrows():\n",
    "        row = row.to_frame().T\n",
    "        results[idx] = get_prediction(row, prob=prob)\n",
    "\n",
    "    return results"
   ]
  },
  {
   "cell_type": "code",
   "execution_count": 91,
   "id": "0e4544dc-80f7-494b-b234-d9ad339467d1",
   "metadata": {},
   "outputs": [
    {
     "data": {
      "text/plain": [
       "{'age': 100,\n",
       " 'sex': 1,\n",
       " 'cp': 0,\n",
       " 'trestbps': 115,\n",
       " 'chol': 258,\n",
       " 'fbs': 0,\n",
       " 'restecg': 0,\n",
       " 'thalach': 141,\n",
       " 'exang': 1,\n",
       " 'oldpeak': 2.8,\n",
       " 'slope': 0,\n",
       " 'ca': 1,\n",
       " 'thal': 2}"
      ]
     },
     "execution_count": 91,
     "metadata": {},
     "output_type": "execute_result"
    }
   ],
   "source": [
    "data = json.loads(\n",
    "    \"\"\"{\n",
    "    \"age\": 100,\n",
    "    \"sex\": 1,\n",
    "    \"cp\": 0,\n",
    "    \"trestbps\": 115,\n",
    "    \"chol\": 258,\n",
    "    \"fbs\": 0,\n",
    "    \"restecg\": 0,\n",
    "    \"thalach\": 141,\n",
    "    \"exang\": 1,\n",
    "    \"oldpeak\": 2.8,\n",
    "    \"slope\": 0,\n",
    "    \"ca\": 1,\n",
    "    \"thal\": 2\n",
    "}\"\"\"\n",
    ")\n",
    "\n",
    "data"
   ]
  },
  {
   "cell_type": "code",
   "execution_count": 92,
   "id": "6c8fbd0a-4c03-4233-8936-8937f17b4487",
   "metadata": {},
   "outputs": [
    {
     "data": {
      "text/html": [
       "<div>\n",
       "<style scoped>\n",
       "    .dataframe tbody tr th:only-of-type {\n",
       "        vertical-align: middle;\n",
       "    }\n",
       "\n",
       "    .dataframe tbody tr th {\n",
       "        vertical-align: top;\n",
       "    }\n",
       "\n",
       "    .dataframe thead th {\n",
       "        text-align: right;\n",
       "    }\n",
       "</style>\n",
       "<table border=\"1\" class=\"dataframe\">\n",
       "  <thead>\n",
       "    <tr style=\"text-align: right;\">\n",
       "      <th></th>\n",
       "      <th>age</th>\n",
       "      <th>sex</th>\n",
       "      <th>cp</th>\n",
       "      <th>trestbps</th>\n",
       "      <th>chol</th>\n",
       "      <th>fbs</th>\n",
       "      <th>restecg</th>\n",
       "      <th>thalach</th>\n",
       "      <th>exang</th>\n",
       "      <th>oldpeak</th>\n",
       "      <th>slope</th>\n",
       "      <th>ca</th>\n",
       "      <th>thal</th>\n",
       "    </tr>\n",
       "  </thead>\n",
       "  <tbody>\n",
       "    <tr>\n",
       "      <th>0</th>\n",
       "      <td>100</td>\n",
       "      <td>1</td>\n",
       "      <td>0</td>\n",
       "      <td>115</td>\n",
       "      <td>258</td>\n",
       "      <td>0</td>\n",
       "      <td>0</td>\n",
       "      <td>141</td>\n",
       "      <td>1</td>\n",
       "      <td>2.8</td>\n",
       "      <td>0</td>\n",
       "      <td>1</td>\n",
       "      <td>2</td>\n",
       "    </tr>\n",
       "  </tbody>\n",
       "</table>\n",
       "</div>"
      ],
      "text/plain": [
       "   age  sex  cp  trestbps  chol  fbs  restecg  thalach  exang  oldpeak  slope  \\\n",
       "0  100    1   0       115   258    0        0      141      1      2.8      0   \n",
       "\n",
       "   ca  thal  \n",
       "0   1     2  "
      ]
     },
     "execution_count": 92,
     "metadata": {},
     "output_type": "execute_result"
    }
   ],
   "source": [
    "data = pd.DataFrame([data])\n",
    "data"
   ]
  },
  {
   "cell_type": "code",
   "execution_count": 93,
   "id": "5d300ec1-4711-4cb4-8eca-13b005de408f",
   "metadata": {},
   "outputs": [
    {
     "data": {
      "text/plain": [
       "{'decision_tree': array([[63, 36]]),\n",
       " 'knn': array([[88, 11]]),\n",
       " 'random_forest': array([[62, 37]]),\n",
       " 'svm': array([[64, 35]])}"
      ]
     },
     "execution_count": 93,
     "metadata": {},
     "output_type": "execute_result"
    }
   ],
   "source": [
    "get_prediction(data, True)"
   ]
  },
  {
   "cell_type": "code",
   "execution_count": 94,
   "id": "5ebb4cb0-effb-4b9b-8138-6cfae19ca2df",
   "metadata": {},
   "outputs": [
    {
     "data": {
      "text/plain": [
       "[{'age': 100,\n",
       "  'sex': 1,\n",
       "  'cp': 0,\n",
       "  'trestbps': 115,\n",
       "  'chol': 258,\n",
       "  'fbs': 0,\n",
       "  'restecg': 0,\n",
       "  'thalach': 141,\n",
       "  'exang': 1,\n",
       "  'oldpeak': 2.8,\n",
       "  'slope': 0,\n",
       "  'ca': 1,\n",
       "  'thal': 2},\n",
       " {'age': 63,\n",
       "  'sex': 1,\n",
       "  'cp': 3,\n",
       "  'trestbps': 145,\n",
       "  'chol': 233,\n",
       "  'fbs': 1,\n",
       "  'restecg': 0,\n",
       "  'thalach': 150,\n",
       "  'exang': 0,\n",
       "  'oldpeak': 2.3,\n",
       "  'slope': 0,\n",
       "  'ca': 0,\n",
       "  'thal': 1}]"
      ]
     },
     "execution_count": 94,
     "metadata": {},
     "output_type": "execute_result"
    }
   ],
   "source": [
    "data = json.loads(\n",
    "    \"\"\"[\n",
    "    {\n",
    "    \"age\": 100,\n",
    "    \"sex\": 1,\n",
    "    \"cp\": 0,\n",
    "    \"trestbps\": 115,\n",
    "    \"chol\": 258,\n",
    "    \"fbs\": 0,\n",
    "    \"restecg\": 0,\n",
    "    \"thalach\": 141,\n",
    "    \"exang\": 1,\n",
    "    \"oldpeak\": 2.8,\n",
    "    \"slope\": 0,\n",
    "    \"ca\": 1,\n",
    "    \"thal\": 2\n",
    "},\n",
    "{\n",
    "        \"age\": 63,\n",
    "        \"sex\": 1,\n",
    "        \"cp\": 3,\n",
    "        \"trestbps\": 145,\n",
    "        \"chol\": 233,\n",
    "        \"fbs\": 1,\n",
    "        \"restecg\": 0,\n",
    "        \"thalach\": 150,\n",
    "        \"exang\": 0,\n",
    "        \"oldpeak\": 2.3,\n",
    "        \"slope\": 0,\n",
    "        \"ca\": 0,\n",
    "        \"thal\": 1\n",
    "        }\n",
    "    ]\n",
    "    \n",
    "\"\"\"\n",
    ")\n",
    "\n",
    "data"
   ]
  },
  {
   "cell_type": "code",
   "execution_count": 95,
   "id": "168e6d20-f187-4a22-ac0c-caf99fbf8646",
   "metadata": {},
   "outputs": [],
   "source": [
    "data = pd.DataFrame(data)"
   ]
  },
  {
   "cell_type": "code",
   "execution_count": 98,
   "id": "fb7ae76f-db05-47ed-b0be-b1262d665bc4",
   "metadata": {},
   "outputs": [
    {
     "data": {
      "text/plain": [
       "{0: {'decision_tree': 0, 'knn': 0, 'random_forest': 0, 'svm': 1},\n",
       " 1: {'decision_tree': 1, 'knn': 0, 'random_forest': 1, 'svm': 1}}"
      ]
     },
     "execution_count": 98,
     "metadata": {},
     "output_type": "execute_result"
    }
   ],
   "source": [
    "get_predictions(data, False)"
   ]
  },
  {
   "cell_type": "code",
   "execution_count": null,
   "id": "10f8dabd-d07c-4141-a271-d8515189afbf",
   "metadata": {},
   "outputs": [],
   "source": []
  }
 ],
 "metadata": {
  "kernelspec": {
   "display_name": "Python 3 (ipykernel)",
   "language": "python",
   "name": "python3"
  },
  "language_info": {
   "codemirror_mode": {
    "name": "ipython",
    "version": 3
   },
   "file_extension": ".py",
   "mimetype": "text/x-python",
   "name": "python",
   "nbconvert_exporter": "python",
   "pygments_lexer": "ipython3",
   "version": "3.10.16"
  }
 },
 "nbformat": 4,
 "nbformat_minor": 5
}
